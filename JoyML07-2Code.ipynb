{
 "cells": [
  {
   "cell_type": "markdown",
   "metadata": {},
   "source": [
    "## 2. 숫자 인식 인공신경망 구현"
   ]
  },
  {
   "cell_type": "markdown",
   "metadata": {},
   "source": [
    "아래 셀에 있는 순방향 신경망 코드를 실행하기 위해서는 현재 이 파일(JoyML07-2Code.ipynb)의 위치에서 다음과 같은 파일들이 필요합니다. \n",
    "\n",
    "1. joy.py\n",
    "2. data/t10k-images-idx3-ubyte.gz <br>\n",
    "   data/t10k-labels-idx1-ubyte.gz <br>\n",
    "   data/train-images-idx3-ubyte.gz <br>\n",
    "   data/train-labels-idx1-ubyte.gz <br>\n",
    "3. data/w_xh.weights <br>\n",
    "   data/w_hy.weights\n",
    "   \n",
    "위의 파일들은 아래의 github에서 내려 받으실 수 있습니다. \n",
    "\n",
    "> https://github.com/idebtor/KMOOC-ML\n",
    "\n",
    "예를 들면, `joy.py` 파일이름 위에서 오른쪽 마우스 버튼을 클릭하여, \"다른 이름으로 링크 저장\"을 선택하여 알맞는 폴더에 저장하면 됩니다."
   ]
  },
  {
   "cell_type": "code",
   "execution_count": null,
   "metadata": {},
   "outputs": [],
   "source": [
    "import joy\n",
    "import numpy as np\n",
    "\n",
    "g = lambda x : 1 / (1 + np.exp(-x))\n",
    "\n",
    "(X,y) = joy.load_mnist_num(7)\n",
    "W1 = joy.load_mnist_weight('data/w_xh.weights')\n",
    "Z1 = np.dot(W1, X)\n",
    "A1 = g(Z1)\n",
    "\n",
    "W2 = joy.load_mnist_weight('data/w_hy.weights')\n",
    "Z2 = np.dot(W2, A1)\n",
    "yhat = g(Z2)\n",
    "\n",
    "print('image(class label):', y)\n",
    "# print('predict:', np.round_(yhat, 3))\n",
    "# print yhat one by one\n",
    "for i, iyhat in enumerate(yhat):\n",
    "    print('[{}] = {}'.format(i, np.round(yhat[i], 3)))\n",
    "    \n",
    "print('image(predicted) = ', np.argmax(yhat))"
   ]
  },
  {
   "cell_type": "code",
   "execution_count": null,
   "metadata": {},
   "outputs": [],
   "source": []
  }
 ],
 "metadata": {
  "kernelspec": {
   "display_name": "Python 3",
   "language": "python",
   "name": "python3"
  },
  "language_info": {
   "codemirror_mode": {
    "name": "ipython",
    "version": 3
   },
   "file_extension": ".py",
   "mimetype": "text/x-python",
   "name": "python",
   "nbconvert_exporter": "python",
   "pygments_lexer": "ipython3",
   "version": "3.6.4"
  }
 },
 "nbformat": 4,
 "nbformat_minor": 2
}
